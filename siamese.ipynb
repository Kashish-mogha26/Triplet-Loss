{
  "nbformat": 4,
  "nbformat_minor": 0,
  "metadata": {
    "colab": {
      "name": "siamese.ipynb",
      "provenance": [],
      "collapsed_sections": [],
      "include_colab_link": true
    },
    "kernelspec": {
      "name": "python3",
      "display_name": "Python 3"
    }
  },
  "cells": [
    {
      "cell_type": "markdown",
      "metadata": {
        "id": "view-in-github",
        "colab_type": "text"
      },
      "source": [
        "<a href=\"https://colab.research.google.com/github/Kashish-mogha26/Triplet-Loss/blob/master/siamese.ipynb\" target=\"_parent\"><img src=\"https://colab.research.google.com/assets/colab-badge.svg\" alt=\"Open In Colab\"/></a>"
      ]
    },
    {
      "cell_type": "code",
      "metadata": {
        "id": "gRhPlFfqrKt6",
        "colab_type": "code",
        "colab": {}
      },
      "source": [
        "import os\n",
        "import numpy as np\n",
        "import tensorflow as tf\n",
        "import pandas as pd\n",
        "np.random.seed(0)\n",
        "import matplotlib.pyplot as plt\n",
        "%matplotlib inline\n",
        "from pylab import *\n",
        "from keras.models import Sequential\n",
        "from keras.optimizers import Adam\n",
        "from keras.layers import Conv2D, ZeroPadding2D, Activation, Input, concatenate\n",
        "from keras.models import Model\n",
        "from keras.datasets import mnist\n",
        "\n",
        "from keras.layers.normalization import BatchNormalization\n",
        "from keras.layers.pooling import MaxPooling2D\n",
        "from keras.layers.merge import Concatenate\n",
        "from keras.layers.core import Lambda, Flatten, Dense\n",
        "from keras.initializers import glorot_uniform,he_uniform\n",
        "\n",
        "from keras.engine.topology import Layer\n",
        "from keras.regularizers import l2\n",
        "from keras import backend as K\n",
        "from keras.utils import plot_model,normalize\n",
        "\n",
        "from sklearn.metrics import roc_curve,roc_auc_score\n"
      ],
      "execution_count": 0,
      "outputs": []
    },
    {
      "cell_type": "code",
      "metadata": {
        "id": "em_Ln2UHr_pA",
        "colab_type": "code",
        "colab": {}
      },
      "source": [
        "def DrawPics(tensor,nb=0,template='{}',classnumber=None):\n",
        "    if (nb==0):\n",
        "        N = tensor.shape[0]\n",
        "    else:\n",
        "        N = min(nb,tensor.shape[0])\n",
        "    fig=plt.figure(figsize=(16,2))\n",
        "    nbligne = floor(N/20)+1\n",
        "    for m in range(N):\n",
        "        subplot = fig.add_subplot(nbligne,min(N,20),m+1)\n",
        "        axis(\"off\")\n",
        "        plt.imshow(tensor[m,:,:,0],vmin=0, vmax=1,cmap='Greys')\n",
        "        if (classnumber!=None):\n",
        "            subplot.title.set_text((template.format(classnumber)))"
      ],
      "execution_count": 0,
      "outputs": []
    },
    {
      "cell_type": "code",
      "metadata": {
        "id": "wlmW-zTysCig",
        "colab_type": "code",
        "outputId": "abb4932b-0972-421f-da36-2733f0fe1136",
        "colab": {
          "resources": {
            "http://localhost:8080/nbextensions/google.colab/files.js": {
              "data": "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",
              "ok": true,
              "headers": [
                [
                  "content-type",
                  "application/javascript"
                ]
              ],
              "status": 200,
              "status_text": ""
            }
          },
          "base_uri": "https://localhost:8080/",
          "height": 97
        }
      },
      "source": [
        "from google.colab import files\n",
        "uploaded=files.upload()"
      ],
      "execution_count": 0,
      "outputs": [
        {
          "output_type": "display_data",
          "data": {
            "text/html": [
              "\n",
              "     <input type=\"file\" id=\"files-756cc1c1-56f6-4d2e-a4ca-c0364d385c6d\" name=\"files[]\" multiple disabled />\n",
              "     <output id=\"result-756cc1c1-56f6-4d2e-a4ca-c0364d385c6d\">\n",
              "      Upload widget is only available when the cell has been executed in the\n",
              "      current browser session. Please rerun this cell to enable.\n",
              "      </output>\n",
              "      <script src=\"/nbextensions/google.colab/files.js\"></script> "
            ],
            "text/plain": [
              "<IPython.core.display.HTML object>"
            ]
          },
          "metadata": {
            "tags": []
          }
        },
        {
          "output_type": "stream",
          "text": [
            "Saving mnist-original.mat to mnist-original (3).mat\n"
          ],
          "name": "stdout"
        },
        {
          "output_type": "display_data",
          "data": {
            "text/html": [
              "\n",
              "     <input type=\"file\" id=\"files-b86d82f7-b873-4873-80e5-9806839ea11f\" name=\"files[]\" multiple disabled />\n",
              "     <output id=\"result-b86d82f7-b873-4873-80e5-9806839ea11f\">\n",
              "      Upload widget is only available when the cell has been executed in the\n",
              "      current browser session. Please rerun this cell to enable.\n",
              "      </output>\n",
              "      <script src=\"/nbextensions/google.colab/files.js\"></script> "
            ],
            "text/plain": [
              "<IPython.core.display.HTML object>"
            ]
          },
          "metadata": {
            "tags": []
          }
        }
      ]
    },
    {
      "cell_type": "code",
      "metadata": {
        "id": "vqeOIlhf51Wd",
        "colab_type": "code",
        "colab": {}
      },
      "source": [
        "#DATASET\n",
        "nb_classes = 10\n",
        "img_rows, img_cols = 28, 28\n",
        "input_shape = (img_rows, img_cols, 1)\n",
        "\n",
        "def buildDataSet():\n",
        "    \"\"\"Build dataset for train and test\n",
        "    \n",
        "    \n",
        "    returns:\n",
        "        dataset : list of lengh 10 containing images for each classes of shape (?,28,28,1)\n",
        "    \"\"\"\n",
        "    (x_train_origin, y_train_origin), (x_test_origin, y_test_origin) = mnist.load_data()\n",
        "\n",
        "    assert K.image_data_format() == 'channels_last'\n",
        "    x_train_origin = x_train_origin.reshape(x_train_origin.shape[0], img_rows, img_cols, 1)\n",
        "    x_test_origin = x_test_origin.reshape(x_test_origin.shape[0], img_rows, img_cols, 1)\n",
        "    \n",
        "    dataset_train = []\n",
        "    dataset_test = []\n",
        "    \n",
        "    #Sorting images by classes and normalize values 0=>1\n",
        "    for n in range(nb_classes):\n",
        "        images_class_n = np.asarray([row for idx,row in enumerate(x_train_origin) if y_train_origin[idx]==n])\n",
        "        dataset_train.append(images_class_n/255)\n",
        "        \n",
        "        images_class_n = np.asarray([row for idx,row in enumerate(x_test_origin) if y_test_origin[idx]==n])\n",
        "        dataset_test.append(images_class_n/255)\n",
        "        \n",
        "    return dataset_train,dataset_test,x_train_origin,y_train_origin,x_test_origin,y_test_origin"
      ],
      "execution_count": 0,
      "outputs": []
    },
    {
      "cell_type": "code",
      "metadata": {
        "id": "OTLwNm8k6Lf8",
        "colab_type": "code",
        "outputId": "ae268b09-ec37-4e72-9f3a-b00231097438",
        "colab": {
          "base_uri": "https://localhost:8080/",
          "height": 658
        }
      },
      "source": [
        "dataset_train,dataset_test,x_train_origin,y_train_origin,x_test_origin,y_test_origin = buildDataSet()\n",
        "print(\"Checking shapes for class 0 (train) : \",dataset_train[0].shape)\n",
        "print(\"Checking shapes for class 0 (test) : \",dataset_test[0].shape)\n",
        "print(\"Checking first samples\")\n",
        "for i in range(2):\n",
        "    DrawPics(dataset_train[i],5,template='Train {}',classnumber=i)\n",
        "    DrawPics(dataset_test[i],5,template='Test {}',classnumber=i)"
      ],
      "execution_count": 5,
      "outputs": [
        {
          "output_type": "stream",
          "text": [
            "Downloading data from https://s3.amazonaws.com/img-datasets/mnist.npz\n",
            "11493376/11490434 [==============================] - 2s 0us/step\n",
            "Checking shapes for class 0 (train) :  (5923, 28, 28, 1)\n",
            "Checking shapes for class 0 (test) :  (980, 28, 28, 1)\n",
            "Checking first samples\n"
          ],
          "name": "stdout"
        },
        {
          "output_type": "display_data",
          "data": {
            "image/png": "[encoded data removed]",
            "text/plain": [
              "<Figure size 1152x144 with 5 Axes>"
            ]
          },
          "metadata": {
            "tags": []
          }
        },
        {
          "output_type": "display_data",
          "data": {
            "image/png": "[encoded data removed]",
            "text/plain": [
              "<Figure size 1152x144 with 5 Axes>"
            ]
          },
          "metadata": {
            "tags": []
          }
        },
        {
          "output_type": "display_data",
          "data": {
            "image/png": "[encoded data removed]",
            "text/plain": [
              "<Figure size 1152x144 with 5 Axes>"
            ]
          },
          "metadata": {
            "tags": []
          }
        },
        {
          "output_type": "display_data",
          "data": {
            "image/png": "[encoded data removed]",
            "text/plain": [
              "<Figure size 1152x144 with 5 Axes>"
            ]
          },
          "metadata": {
            "tags": []
          }
        }
      ]
    },
    {
      "cell_type": "code",
      "metadata": {
        "id": "nrjyop-N6yk5",
        "colab_type": "code",
        "colab": {}
      },
      "source": [
        "#BUILD NEURAL NETWORK FOR COMPUTING TRIPLE SIMILARITY\n",
        "def build_network(input_shape, embeddingsize):\n",
        "    '''\n",
        "    Define the neural network to learn image similarity\n",
        "    Input : \n",
        "            input_shape : shape of input images\n",
        "            embeddingsize : vectorsize used to encode our picture   \n",
        "    '''\n",
        "     # Convolutional Neural Network\n",
        "    network = Sequential()\n",
        "    network.add(Conv2D(128, (7,7), activation='relu',\n",
        "                     input_shape=input_shape,\n",
        "                     kernel_initializer='he_uniform',\n",
        "                     kernel_regularizer=l2(2e-4)))\n",
        "    network.add(MaxPooling2D())\n",
        "    network.add(Conv2D(128, (3,3), activation='relu', kernel_initializer='he_uniform',\n",
        "                     kernel_regularizer=l2(2e-4)))\n",
        "    network.add(MaxPooling2D())\n",
        "    network.add(Conv2D(256, (3,3), activation='relu', kernel_initializer='he_uniform',\n",
        "                     kernel_regularizer=l2(2e-4)))\n",
        "    network.add(Flatten())\n",
        "    network.add(Dense(4096, activation='relu',\n",
        "                   kernel_regularizer=l2(1e-3),\n",
        "                   kernel_initializer='he_uniform'))\n",
        "    \n",
        "    \n",
        "    network.add(Dense(embeddingsize, activation=None,\n",
        "                   kernel_regularizer=l2(1e-3),\n",
        "                   kernel_initializer='he_uniform'))\n",
        "    \n",
        "    #Force the encoding to live on the d-dimentional hypershpere\n",
        "    network.add(Lambda(lambda x: K.l2_normalize(x,axis=-1)))\n",
        "    return network\n",
        "\n",
        "class TripletLossLayer(Layer):\n",
        "    def __init__(self, alpha, **kwargs):\n",
        "        self.alpha = alpha\n",
        "        super(TripletLossLayer, self).__init__(**kwargs)\n",
        "    \n",
        "    def triplet_loss(self, inputs):\n",
        "        anchor, positive, negative = inputs\n",
        "        p_dist = K.sum(K.square(anchor-positive), axis=-1)\n",
        "        n_dist = K.sum(K.square(anchor-negative), axis=-1)\n",
        "        return K.sum(K.maximum(p_dist - n_dist + self.alpha, 0), axis=0)\n",
        "    \n",
        "    def call(self, inputs):\n",
        "        loss = self.triplet_loss(inputs)\n",
        "        self.add_loss(loss)\n",
        "        return loss\n",
        "\n",
        "def build_model(input_shape, network, margin=0.2):\n",
        "    '''\n",
        "    Define the Keras Model for training \n",
        "        Input : \n",
        "            input_shape : shape of input images\n",
        "            network : Neural network to train outputing embeddings\n",
        "            margin : minimal distance between Anchor-Positive and Anchor-Negative for the lossfunction (alpha)\n",
        "    \n",
        "    '''\n",
        "     # Define the tensors for the three input images\n",
        "    anchor_input = Input(input_shape, name=\"anchor_input\")\n",
        "    positive_input = Input(input_shape, name=\"positive_input\")\n",
        "    negative_input = Input(input_shape, name=\"negative_input\") \n",
        "    \n",
        "    # Generate the encodings (feature vectors) for the three images\n",
        "    encoded_a = network(anchor_input)\n",
        "    encoded_p = network(positive_input)\n",
        "    encoded_n = network(negative_input)\n",
        "    \n",
        "    #TripletLoss Layer\n",
        "    loss_layer = TripletLossLayer(alpha=margin,name='triplet_loss_layer')([encoded_a,encoded_p,encoded_n])\n",
        "    \n",
        "    # Connect the inputs with the outputs\n",
        "    network_train = Model(inputs=[anchor_input,positive_input,negative_input],outputs=loss_layer)\n",
        "    \n",
        "    # return the model\n",
        "    return network_train"
      ],
      "execution_count": 0,
      "outputs": []
    },
    {
      "cell_type": "code",
      "metadata": {
        "id": "cSIL-TE3WxGw",
        "colab_type": "code",
        "colab": {
          "base_uri": "https://localhost:8080/",
          "height": 408
        },
        "outputId": "d20287a2-729f-4cf2-d4f7-adcd6fb6e637"
      },
      "source": [
        "network = build_network(input_shape,embeddingsize=10)\n",
        "network_train = build_model(input_shape,network)\n",
        "optimizer = Adam(lr = 0.00006)\n",
        "network_train.compile(loss=None,optimizer=optimizer)\n",
        "network_train.summary()\n",
        "plot_model(network_train,show_shapes=True, show_layer_names=True, to_file='02 model.png')\n",
        "print(network_train.metrics_names)\n",
        "n_iteration=0\n",
        "#network_train.load_weights('mnist-160k_weights.h5')"
      ],
      "execution_count": 8,
      "outputs": [
        {
          "output_type": "stream",
          "text": [
            "Model: \"model_2\"\n",
            "__________________________________________________________________________________________________\n",
            "Layer (type)                    Output Shape         Param #     Connected to                     \n",
            "==================================================================================================\n",
            "anchor_input (InputLayer)       (None, 28, 28, 1)    0                                            \n",
            "__________________________________________________________________________________________________\n",
            "positive_input (InputLayer)     (None, 28, 28, 1)    0                                            \n",
            "__________________________________________________________________________________________________\n",
            "negative_input (InputLayer)     (None, 28, 28, 1)    0                                            \n",
            "__________________________________________________________________________________________________\n",
            "sequential_2 (Sequential)       (None, 10)           4688522     anchor_input[0][0]               \n",
            "                                                                 positive_input[0][0]             \n",
            "                                                                 negative_input[0][0]             \n",
            "__________________________________________________________________________________________________\n",
            "triplet_loss_layer (TripletLoss [(None, 10), (None,  0           sequential_2[1][0]               \n",
            "                                                                 sequential_2[2][0]               \n",
            "                                                                 sequential_2[3][0]               \n",
            "==================================================================================================\n",
            "Total params: 4,688,522\n",
            "Trainable params: 4,688,522\n",
            "Non-trainable params: 0\n",
            "__________________________________________________________________________________________________\n",
            "['loss']\n"
          ],
          "name": "stdout"
        }
      ]
    },
    {
      "cell_type": "code",
      "metadata": {
        "id": "QGUwXa1eZUhz",
        "colab_type": "code",
        "colab": {
          "base_uri": "https://localhost:8080/",
          "height": 275
        },
        "outputId": "98a3d0d5-00a8-4455-c540-dc345fe8dfaa"
      },
      "source": [
        "#testing our NN with dummy image\n",
        "featured_img = network.predict(np.ones((1,img_rows,img_cols,1)))\n",
        "print(featured_img)"
      ],
      "execution_count": 9,
      "outputs": [
        {
          "output_type": "stream",
          "text": [
            "WARNING:tensorflow:From /usr/local/lib/python3.6/dist-packages/keras/backend/tensorflow_backend.py:3005: The name tf.Session is deprecated. Please use tf.compat.v1.Session instead.\n",
            "\n",
            "WARNING:tensorflow:From /usr/local/lib/python3.6/dist-packages/keras/backend/tensorflow_backend.py:190: The name tf.get_default_session is deprecated. Please use tf.compat.v1.get_default_session instead.\n",
            "\n",
            "WARNING:tensorflow:From /usr/local/lib/python3.6/dist-packages/keras/backend/tensorflow_backend.py:197: The name tf.ConfigProto is deprecated. Please use tf.compat.v1.ConfigProto instead.\n",
            "\n",
            "WARNING:tensorflow:From /usr/local/lib/python3.6/dist-packages/keras/backend/tensorflow_backend.py:207: The name tf.global_variables is deprecated. Please use tf.compat.v1.global_variables instead.\n",
            "\n",
            "WARNING:tensorflow:From /usr/local/lib/python3.6/dist-packages/keras/backend/tensorflow_backend.py:216: The name tf.is_variable_initialized is deprecated. Please use tf.compat.v1.is_variable_initialized instead.\n",
            "\n",
            "WARNING:tensorflow:From /usr/local/lib/python3.6/dist-packages/keras/backend/tensorflow_backend.py:223: The name tf.variables_initializer is deprecated. Please use tf.compat.v1.variables_initializer instead.\n",
            "\n",
            "[[-0.08406698 -0.26445273 -0.49128515 -0.24890475 -0.09797017  0.30746958\n",
            "   0.51232684  0.3001547  -0.35184827  0.19793516]]\n"
          ],
          "name": "stdout"
        }
      ]
    },
    {
      "cell_type": "code",
      "metadata": {
        "id": "sqNk7WRvZ1Db",
        "colab_type": "code",
        "colab": {}
      },
      "source": [
        "#PREPARING BATCH FOR TRAINING\n",
        "def get_batch_random(batch_size,s=\"train\"):\n",
        "    \"\"\"\n",
        "    Create batch of APN triplets with a complete random strategy\n",
        "    \n",
        "    Arguments:\n",
        "    batch_size -- integer \n",
        "\n",
        "    Returns:\n",
        "    triplets -- list containing 3 tensors A,P,N of shape (batch_size,w,h,c)\n",
        "    \"\"\"\n",
        "    if s == 'train':\n",
        "        X = dataset_train\n",
        "    else:\n",
        "        X = dataset_test\n",
        "\n",
        "    m, w, h,c = X[0].shape\n",
        "    \n",
        "    \n",
        "    # initialize result\n",
        "    triplets=[np.zeros((batch_size,h, w,c)) for i in range(3)]\n",
        "    \n",
        "    for i in range(batch_size):\n",
        "        #Pick one random class for anchor\n",
        "        anchor_class = np.random.randint(0, nb_classes)\n",
        "        nb_sample_available_for_class_AP = X[anchor_class].shape[0]\n",
        "        \n",
        "        #Pick two different random pics for this class => A and P\n",
        "        [idx_A,idx_P] = np.random.choice(nb_sample_available_for_class_AP,size=2,replace=False)\n",
        "        \n",
        "        #Pick another class for N, different from anchor_class\n",
        "        negative_class = (anchor_class + np.random.randint(1,nb_classes)) % nb_classes\n",
        "        nb_sample_available_for_class_N = X[negative_class].shape[0]\n",
        "        \n",
        "        #Pick a random pic for this negative class => N\n",
        "        idx_N = np.random.randint(0, nb_sample_available_for_class_N)\n",
        "\n",
        "        triplets[0][i,:,:,:] = X[anchor_class][idx_A,:,:,:]\n",
        "        triplets[1][i,:,:,:] = X[anchor_class][idx_P,:,:,:]\n",
        "        triplets[2][i,:,:,:] = X[negative_class][idx_N,:,:,:]\n",
        "\n",
        "    return triplets\n",
        "\n",
        "def drawTriplets(tripletbatch, nbmax=None):\n",
        "    \"\"\"display the three images for each triplets in the batch\n",
        "    \"\"\"\n",
        "    labels = [\"Anchor\", \"Positive\", \"Negative\"]\n",
        "\n",
        "    if (nbmax==None):\n",
        "        nbrows = tripletbatch[0].shape[0]\n",
        "    else:\n",
        "        nbrows = min(nbmax,tripletbatch[0].shape[0])\n",
        "                 \n",
        "    for row in range(nbrows):\n",
        "        fig=plt.figure(figsize=(16,2))\n",
        "    \n",
        "        for i in range(3):\n",
        "            subplot = fig.add_subplot(1,3,i+1)\n",
        "            axis(\"off\")\n",
        "            plt.imshow(tripletbatch[i][row,:,:,0],vmin=0, vmax=1,cmap='Greys')\n",
        "            subplot.title.set_text(labels[i])"
      ],
      "execution_count": 0,
      "outputs": []
    },
    {
      "cell_type": "code",
      "metadata": {
        "id": "jvEJich_aR0p",
        "colab_type": "code",
        "colab": {}
      },
      "source": [
        "def compute_dist(a,b):\n",
        "    return np.sum(np.square(a-b))\n",
        "\n",
        "def get_batch_hard(draw_batch_size,hard_batchs_size,norm_batchs_size,network,s=\"train\"):\n",
        "    \"\"\"\n",
        "    Create batch of APN \"hard\" triplets\n",
        "\n",
        "    Returns:\n",
        "    triplets -- list containing 3 tensors A,P,N of shape (hard_batchs_size+norm_batchs_size,w,h,c)\n",
        "    \"\"\"\n",
        "    if s == 'train':\n",
        "        X = dataset_train\n",
        "    else:\n",
        "        X = dataset_test\n",
        "\n",
        "    m, w, h,c = X[0].shape\n",
        "    \n",
        "    \n",
        "    #Step 1 : pick a random batch to study\n",
        "    studybatch = get_batch_random(draw_batch_size,s)\n",
        "    \n",
        "    #Step 2 : compute the loss with current network : d(A,P)-d(A,N). The alpha parameter here is omited here since we want only to order them\n",
        "    studybatchloss = np.zeros((draw_batch_size))\n",
        "    \n",
        "    #Compute embeddings for anchors, positive and negatives\n",
        "    A = network.predict(studybatch[0])\n",
        "    P = network.predict(studybatch[1])\n",
        "    N = network.predict(studybatch[2])\n",
        "    \n",
        "    #Compute d(A,P)-d(A,N)\n",
        "    studybatchloss = np.sum(np.square(A-P),axis=1) - np.sum(np.square(A-N),axis=1)\n",
        "    \n",
        "    #Sort by distance (high distance first) and take the \n",
        "    selection = np.argsort(studybatchloss)[::-1][:hard_batchs_size]\n",
        "    \n",
        "    #Draw other random samples from the batch\n",
        "    selection2 = np.random.choice(np.delete(np.arange(draw_batch_size),selection),norm_batchs_size,replace=False)\n",
        "    \n",
        "    selection = np.append(selection,selection2)\n",
        "    \n",
        "    triplets = [studybatch[0][selection,:,:,:], studybatch[1][selection,:,:,:], studybatch[2][selection,:,:,:]]\n",
        "    \n",
        "    return triplets"
      ],
      "execution_count": 0,
      "outputs": []
    },
    {
      "cell_type": "code",
      "metadata": {
        "id": "BsL_U0shaljR",
        "colab_type": "code",
        "colab": {
          "base_uri": "https://localhost:8080/",
          "height": 624
        },
        "outputId": "aeaa93e8-df03-4079-b6be-1bad7d59e91f"
      },
      "source": [
        "triplets = get_batch_random(2)\n",
        "print(\"Checking batch width, should be 3 : \",len(triplets))\n",
        "print(\"Shapes in the batch A:{0} P:{1} N:{2}\".format(triplets[0].shape, triplets[1].shape, triplets[2].shape))\n",
        "drawTriplets(triplets)\n",
        "hardtriplets = get_batch_hard(50,1,1,network)\n",
        "print(\"Shapes in the hardbatch A:{0} P:{1} N:{2}\".format(hardtriplets[0].shape, hardtriplets[1].shape, hardtriplets[2].shape))\n",
        "drawTriplets(hardtriplets)"
      ],
      "execution_count": 12,
      "outputs": [
        {
          "output_type": "stream",
          "text": [
            "Checking batch width, should be 3 :  3\n",
            "Shapes in the batch A:(2, 28, 28, 1) P:(2, 28, 28, 1) N:(2, 28, 28, 1)\n",
            "Shapes in the hardbatch A:(2, 28, 28, 1) P:(2, 28, 28, 1) N:(2, 28, 28, 1)\n"
          ],
          "name": "stdout"
        },
        {
          "output_type": "display_data",
          "data": {
            "image/png": "[encoded data removed]",
            "text/plain": [
              "<Figure size 1152x144 with 3 Axes>"
            ]
          },
          "metadata": {
            "tags": []
          }
        },
        {
          "output_type": "display_data",
          "data": {
            "image/png": "[encoded data removed]",
            "text/plain": [
              "<Figure size 1152x144 with 3 Axes>"
            ]
          },
          "metadata": {
            "tags": []
          }
        },
        {
          "output_type": "display_data",
          "data": {
            "image/png": "[encoded data removed]",
            "text/plain": [
              "<Figure size 1152x144 with 3 Axes>"
            ]
          },
          "metadata": {
            "tags": []
          }
        },
        {
          "output_type": "display_data",
          "data": {
            "image/png": "[encoded data removed]",
            "text/plain": [
              "<Figure size 1152x144 with 3 Axes>"
            ]
          },
          "metadata": {
            "tags": []
          }
        }
      ]
    },
    {
      "cell_type": "code",
      "metadata": {
        "id": "EW9DW5rsa-xC",
        "colab_type": "code",
        "colab": {}
      },
      "source": [
        "# Hyper parameters\n",
        "evaluate_every = 1000 # interval for evaluating on one-shot tasks\n",
        "batch_size = 32\n",
        "n_iter = 80000 # No. of training iterations\n",
        "n_val = 250 # how many one-shot tasks to validate on"
      ],
      "execution_count": 0,
      "outputs": []
    },
    {
      "cell_type": "code",
      "metadata": {
        "id": "Sh3VXcGIbF52",
        "colab_type": "code",
        "colab": {}
      },
      "source": [
        "#VALIDATION/EVAULATE\n",
        "def compute_probs(network,X,Y):\n",
        "    '''\n",
        "    Input\n",
        "        network : current NN to compute embeddings\n",
        "        X : tensor of shape (m,w,h,1) containing pics to evaluate\n",
        "        Y : tensor of shape (m,) containing true class\n",
        "        \n",
        "    Returns\n",
        "        probs : array of shape (m,m) containing distances\n",
        "    \n",
        "    '''\n",
        "    m = X.shape[0]\n",
        "    nbevaluation = int(m*(m-1)/2)\n",
        "    probs = np.zeros((nbevaluation))\n",
        "    y = np.zeros((nbevaluation))\n",
        "    \n",
        "    #Compute all embeddings for all pics with current network\n",
        "    embeddings = network.predict(X)\n",
        "    \n",
        "    size_embedding = embeddings.shape[1]\n",
        "    \n",
        "    #For each pics of our dataset\n",
        "    k = 0\n",
        "    for i in range(m):\n",
        "            #Against all other images\n",
        "            for j in range(i+1,m):\n",
        "                #compute the probability of being the right decision : it should be 1 for right class, 0 for all other classes\n",
        "                probs[k] = -compute_dist(embeddings[i,:],embeddings[j,:])\n",
        "                if (Y[i]==Y[j]):\n",
        "                    y[k] = 1\n",
        "                    #print(\"{3}:{0} vs {1} : {2}\\tSAME\".format(i,j,probs[k],k))\n",
        "                else:\n",
        "                    y[k] = 0\n",
        "                    #print(\"{3}:{0} vs {1} : \\t\\t\\t{2}\\tDIFF\".format(i,j,probs[k],k))\n",
        "                k += 1\n",
        "    return probs,y\n",
        "    #probs,yprobs = compute_probs(network,x_test_origin[:10,:,:,:],y_test_origin[:10])\n",
        "\n",
        "def compute_metrics(probs,yprobs):\n",
        "   \n",
        "    # calculate AUC\n",
        "    auc = roc_auc_score(yprobs, probs)\n",
        "    # calculate roc curve\n",
        "    fpr, tpr, thresholds = roc_curve(yprobs, probs)\n",
        "    \n",
        "    return fpr, tpr, thresholds,auc\n",
        "\n",
        "def compute_interdist(network):\n",
        "   \n",
        "    res = np.zeros((nb_classes,nb_classes))\n",
        "    \n",
        "    ref_images = np.zeros((nb_classes,img_rows,img_cols,1))\n",
        "    \n",
        "    #generates embeddings for reference images\n",
        "    for i in range(nb_classes):\n",
        "        ref_images[i,:,:,:] = dataset_test[i][0,:,:,:]\n",
        "        ref_embeddings = network.predict(ref_images)\n",
        "    \n",
        "    for i in range(nb_classes):\n",
        "        for j in range(nb_classes):\n",
        "            res[i,j] = dist(ref_embeddings[i],ref_embeddings[j])\n",
        "    return res\n",
        "\n",
        "def draw_interdist(network,n_iteration):\n",
        "    interdist = compute_interdist(network)\n",
        "    \n",
        "    data = []\n",
        "    for i in range(nb_classes):\n",
        "        data.append(np.delete(interdist[i,:],[i]))\n",
        "\n",
        "    fig, ax = plt.subplots()\n",
        "    ax.set_title('Evaluating embeddings distance from each other after {0} iterations'.format(n_iteration))\n",
        "    ax.set_ylim([0,3])\n",
        "    plt.xlabel('Classes')\n",
        "    plt.ylabel('Distance')\n",
        "    ax.boxplot(data,showfliers=False,showbox=True)\n",
        "    locs, labels = plt.xticks()\n",
        "    plt.xticks(locs,np.arange(nb_classes))\n",
        "\n",
        "    plt.show()\n",
        "    \n",
        "def find_nearest(array,value):\n",
        "    idx = np.searchsorted(array, value, side=\"left\")\n",
        "    if idx > 0 and (idx == len(array) or math.fabs(value - array[idx-1]) < math.fabs(value - array[idx])):\n",
        "        return array[idx-1],idx-1\n",
        "    else:\n",
        "        return array[idx],idx\n",
        "    \n",
        "def draw_roc(fpr, tpr,thresholds):\n",
        "    #find threshold\n",
        "    targetfpr=1e-3\n",
        "    _, idx = find_nearest(fpr,targetfpr)\n",
        "    threshold = thresholds[idx]\n",
        "    recall = tpr[idx]\n",
        "    \n",
        "    \n",
        "    # plot no skill\n",
        "    plt.plot([0, 1], [0, 1], linestyle='--')\n",
        "    # plot the roc curve for the model\n",
        "    plt.plot(fpr, tpr, marker='.')\n",
        "    plt.title('AUC: {0:.3f}\\nSensitivity : {2:.1%} @FPR={1:.0e}\\nThreshold={3})'.format(auc,targetfpr,recall,abs(threshold) ))\n",
        "    # show the plot\n",
        "    plt.show()\n",
        "\n"
      ],
      "execution_count": 0,
      "outputs": []
    },
    {
      "cell_type": "code",
      "metadata": {
        "id": "z8GVYcEIcDhR",
        "colab_type": "code",
        "colab": {
          "base_uri": "https://localhost:8080/",
          "height": 589
        },
        "outputId": "03f1b7c7-e355-4e55-b500-21f15fda67de"
      },
      "source": [
        "#Testing on an untrained network\n",
        "probs,yprob = compute_probs(network,x_test_origin[:500,:,:,:],y_test_origin[:500])\n",
        "fpr, tpr, thresholds,auc = compute_metrics(probs,yprob)\n",
        "draw_roc(fpr, tpr,thresholds)\n",
        "draw_interdist(network,n_iteration)"
      ],
      "execution_count": 17,
      "outputs": [
        {
          "output_type": "display_data",
          "data": {
            "image/png": "[encoded data removed]",
            "text/plain": [
              "<Figure size 432x288 with 1 Axes>"
            ]
          },
          "metadata": {
            "tags": []
          }
        },
        {
          "output_type": "display_data",
          "data": {
            "image/png": "[encoded data removed]",
            "text/plain": [
              "<Figure size 432x288 with 1 Axes>"
            ]
          },
          "metadata": {
            "tags": []
          }
        }
      ]
    },
    {
      "cell_type": "code",
      "metadata": {
        "id": "3FiR1WVXfBYV",
        "colab_type": "code",
        "colab": {}
      },
      "source": [
        "def DrawTestImage(network, images, refidx=0):\n",
        "    '''\n",
        "    Evaluate some pictures vs some samples in the test set\n",
        "        image must be of shape(1,w,h,c)\n",
        "    \n",
        "    Returns\n",
        "        scores : resultat des scores de similarités avec les images de base => (N)\n",
        "    \n",
        "    '''\n",
        "    N=4\n",
        "    _, w,h,c = dataset_test[0].shape\n",
        "    nbimages=images.shape[0]\n",
        "    \n",
        "    #generates embedings for given images\n",
        "    image_embedings = network.predict(images)\n",
        "    \n",
        "    #generates embedings for reference images\n",
        "    ref_images = np.zeros((nb_classes,w,h,c))\n",
        "    for i in range(nb_classes):\n",
        "        ref_images[i,:,:,:] = dataset_test[i][refidx,:,:,:]\n",
        "    ref_embedings = network.predict(ref_images)\n",
        "            \n",
        "    for i in range(nbimages):\n",
        "        #Prepare the figure\n",
        "        fig=plt.figure(figsize=(16,2))\n",
        "        subplot = fig.add_subplot(1,nb_classes+1,1)\n",
        "        axis(\"off\")\n",
        "        plotidx = 2\n",
        "            \n",
        "        #Draw this image    \n",
        "        plt.imshow(images[i,:,:,0],vmin=0, vmax=1,cmap='Greys')\n",
        "        subplot.title.set_text(\"Test image\")\n",
        "            \n",
        "        for ref in range(nb_classes):\n",
        "            #Compute distance between this images and references\n",
        "            dist = compute_dist(image_embedings[i,:],ref_embedings[ref,:])\n",
        "            #Draw\n",
        "            subplot = fig.add_subplot(1,nb_classes+1,plotidx)\n",
        "            axis(\"off\")\n",
        "            plt.imshow(ref_images[ref,:,:,0],vmin=0, vmax=1,cmap='Greys')\n",
        "            subplot.title.set_text((\"Class {0}\\n{1:.3e}\".format(ref,dist)))\n",
        "            plotidx += 1\n",
        "\n"
      ],
      "execution_count": 0,
      "outputs": []
    },
    {
      "cell_type": "code",
      "metadata": {
        "id": "MMPAMaNTfYn-",
        "colab_type": "code",
        "colab": {
          "base_uri": "https://localhost:8080/",
          "height": 359
        },
        "outputId": "d261cfc1-1080-432e-c595-08d544f99b1f"
      },
      "source": [
        "for i in range(3):\n",
        "    DrawTestImage(network,np.expand_dims(dataset_train[i][0,:,:,:],axis=0))\n"
      ],
      "execution_count": 19,
      "outputs": [
        {
          "output_type": "display_data",
          "data": {
            "image/png": "[encoded data removed]",
            "text/plain": [
              "<Figure size 1152x144 with 11 Axes>"
            ]
          },
          "metadata": {
            "tags": []
          }
        },
        {
          "output_type": "display_data",
          "data": {
            "image/png": "[encoded data removed]",
            "text/plain": [
              "<Figure size 1152x144 with 11 Axes>"
            ]
          },
          "metadata": {
            "tags": []
          }
        },
        {
          "output_type": "display_data",
          "data": {
            "image/png": "[encoded data removed]",
            "text/plain": [
              "<Figure size 1152x144 with 11 Axes>"
            ]
          },
          "metadata": {
            "tags": []
          }
        }
      ]
    },
    {
      "cell_type": "code",
      "metadata": {
        "id": "gUNSnUDqfpwS",
        "colab_type": "code",
        "colab": {}
      },
      "source": [
        "print(\"Starting training process!\")\n",
        "print(\"-------------------------------------\")\n",
        "t_start = time.time()\n",
        "dummy_target = [np.zeros((batch_size,15)) for i in range(3)]\n",
        "for i in range(1, n_iter+1):\n",
        "    triplets = get_batch_hard(200,16,16,network)\n",
        "    loss = network_train.train_on_batch(triplets, None)\n",
        "    n_iteration += 1\n",
        "    if i % evaluate_every == 0:\n",
        "        print(\"\\n ------------- \\n\")\n",
        "        print(\"[{3}] Time for {0} iterations: {1:.1f} mins, Train Loss: {2}\".format(i, (time.time()-t_start)/60.0,loss,n_iteration))\n",
        "        probs,yprob = compute_probs(network,x_test_origin[:n_val,:,:,:],y_test_origin[:n_val])\n",
        "        #fpr, tpr, thresholds,auc = compute_metrics(probs,yprob)\n",
        "        #draw_roc(fpr, tpr)"
      ],
      "execution_count": 0,
      "outputs": []
    },
    {
      "cell_type": "code",
      "metadata": {
        "id": "7HZxp7RngBCr",
        "colab_type": "code",
        "colab": {}
      },
      "source": [
        "#Full evaluation\n",
        "probs,yprob = compute_probs(network,x_test_origin,y_test_origin)\n",
        "fpr, tpr, thresholds,auc = compute_metrics(probs,yprob)\n",
        "draw_roc(fpr, tpr,thresholds)\n",
        "draw_interdist(network,n_iteration)"
      ],
      "execution_count": 0,
      "outputs": []
    },
    {
      "cell_type": "code",
      "metadata": {
        "id": "tIvy9-KukQuo",
        "colab_type": "code",
        "colab": {}
      },
      "source": [
        "draw_interdist(network,n_iteration)"
      ],
      "execution_count": 0,
      "outputs": []
    },
    {
      "cell_type": "code",
      "metadata": {
        "id": "sxBIU13fkpgW",
        "colab_type": "code",
        "colab": {}
      },
      "source": [
        "for i in range(3):\n",
        "    DrawTestImage(network,np.expand_dims(dataset_train[i][0,:,:,:],axis=0))"
      ],
      "execution_count": 0,
      "outputs": []
    },
    {
      "cell_type": "code",
      "metadata": {
        "id": "smPkpV7BkwKJ",
        "colab_type": "code",
        "colab": {}
      },
      "source": [
        "draw_interdist(network,n_iteration)\n"
      ],
      "execution_count": 0,
      "outputs": []
    }
  ]
}